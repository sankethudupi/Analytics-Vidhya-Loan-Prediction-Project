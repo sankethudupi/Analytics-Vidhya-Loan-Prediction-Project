{
 "cells": [
  {
   "cell_type": "markdown",
   "metadata": {
    "id": "XZcran_n5pAI"
   },
   "source": [
    "# Predict Loan Eligibility for Dream Housing Finance company\n",
    "\n",
    "### Loan eligibilty process is a time consoming process, so automation is required for faster and better outputs.Customer first applies for home loan and after that company validates the customer eligibility for loan.Company wants to automate the loan eligibility process (real time) based on cuThese is done by customer details provided while form filling like gender, Married, Dependents , Education, Self_Employed, Loan_Amount_Term, Credit_History, ApplicantIncome, CoapplicantIncome and LoanAmount. We built a classfication model to target customers who are eligible for loan amount."
   ]
  },
  {
   "cell_type": "code",
   "execution_count": 62,
   "metadata": {
    "id": "MObU9FqQydqS"
   },
   "outputs": [],
   "source": [
    "import pandas as pd\n",
    "import numpy as np\n",
    "import matplotlib.pyplot as plt\n",
    "import seaborn as sns "
   ]
  },
  {
   "cell_type": "code",
   "execution_count": 63,
   "metadata": {
    "id": "KPlhzyp8ydqp",
    "outputId": "5578edbc-acf0-42ca-8c8a-acdd1dee89ba"
   },
   "outputs": [
    {
     "data": {
      "text/html": [
       "<div>\n",
       "<style scoped>\n",
       "    .dataframe tbody tr th:only-of-type {\n",
       "        vertical-align: middle;\n",
       "    }\n",
       "\n",
       "    .dataframe tbody tr th {\n",
       "        vertical-align: top;\n",
       "    }\n",
       "\n",
       "    .dataframe thead th {\n",
       "        text-align: right;\n",
       "    }\n",
       "</style>\n",
       "<table border=\"1\" class=\"dataframe\">\n",
       "  <thead>\n",
       "    <tr style=\"text-align: right;\">\n",
       "      <th></th>\n",
       "      <th>Loan_ID</th>\n",
       "      <th>Gender</th>\n",
       "      <th>Married</th>\n",
       "      <th>Dependents</th>\n",
       "      <th>Education</th>\n",
       "      <th>Self_Employed</th>\n",
       "      <th>ApplicantIncome</th>\n",
       "      <th>CoapplicantIncome</th>\n",
       "      <th>LoanAmount</th>\n",
       "      <th>Loan_Amount_Term</th>\n",
       "      <th>Credit_History</th>\n",
       "      <th>Property_Area</th>\n",
       "      <th>Loan_Status</th>\n",
       "    </tr>\n",
       "  </thead>\n",
       "  <tbody>\n",
       "    <tr>\n",
       "      <th>0</th>\n",
       "      <td>LP001002</td>\n",
       "      <td>Male</td>\n",
       "      <td>No</td>\n",
       "      <td>0</td>\n",
       "      <td>Graduate</td>\n",
       "      <td>No</td>\n",
       "      <td>5849</td>\n",
       "      <td>0.0</td>\n",
       "      <td>NaN</td>\n",
       "      <td>360.0</td>\n",
       "      <td>1.0</td>\n",
       "      <td>Urban</td>\n",
       "      <td>Y</td>\n",
       "    </tr>\n",
       "    <tr>\n",
       "      <th>1</th>\n",
       "      <td>LP001003</td>\n",
       "      <td>Male</td>\n",
       "      <td>Yes</td>\n",
       "      <td>1</td>\n",
       "      <td>Graduate</td>\n",
       "      <td>No</td>\n",
       "      <td>4583</td>\n",
       "      <td>1508.0</td>\n",
       "      <td>128.0</td>\n",
       "      <td>360.0</td>\n",
       "      <td>1.0</td>\n",
       "      <td>Rural</td>\n",
       "      <td>N</td>\n",
       "    </tr>\n",
       "    <tr>\n",
       "      <th>2</th>\n",
       "      <td>LP001005</td>\n",
       "      <td>Male</td>\n",
       "      <td>Yes</td>\n",
       "      <td>0</td>\n",
       "      <td>Graduate</td>\n",
       "      <td>Yes</td>\n",
       "      <td>3000</td>\n",
       "      <td>0.0</td>\n",
       "      <td>66.0</td>\n",
       "      <td>360.0</td>\n",
       "      <td>1.0</td>\n",
       "      <td>Urban</td>\n",
       "      <td>Y</td>\n",
       "    </tr>\n",
       "    <tr>\n",
       "      <th>3</th>\n",
       "      <td>LP001006</td>\n",
       "      <td>Male</td>\n",
       "      <td>Yes</td>\n",
       "      <td>0</td>\n",
       "      <td>Not Graduate</td>\n",
       "      <td>No</td>\n",
       "      <td>2583</td>\n",
       "      <td>2358.0</td>\n",
       "      <td>120.0</td>\n",
       "      <td>360.0</td>\n",
       "      <td>1.0</td>\n",
       "      <td>Urban</td>\n",
       "      <td>Y</td>\n",
       "    </tr>\n",
       "    <tr>\n",
       "      <th>4</th>\n",
       "      <td>LP001008</td>\n",
       "      <td>Male</td>\n",
       "      <td>No</td>\n",
       "      <td>0</td>\n",
       "      <td>Graduate</td>\n",
       "      <td>No</td>\n",
       "      <td>6000</td>\n",
       "      <td>0.0</td>\n",
       "      <td>141.0</td>\n",
       "      <td>360.0</td>\n",
       "      <td>1.0</td>\n",
       "      <td>Urban</td>\n",
       "      <td>Y</td>\n",
       "    </tr>\n",
       "  </tbody>\n",
       "</table>\n",
       "</div>"
      ],
      "text/plain": [
       "    Loan_ID Gender Married Dependents     Education Self_Employed  \\\n",
       "0  LP001002   Male      No          0      Graduate            No   \n",
       "1  LP001003   Male     Yes          1      Graduate            No   \n",
       "2  LP001005   Male     Yes          0      Graduate           Yes   \n",
       "3  LP001006   Male     Yes          0  Not Graduate            No   \n",
       "4  LP001008   Male      No          0      Graduate            No   \n",
       "\n",
       "   ApplicantIncome  CoapplicantIncome  LoanAmount  Loan_Amount_Term  \\\n",
       "0             5849                0.0         NaN             360.0   \n",
       "1             4583             1508.0       128.0             360.0   \n",
       "2             3000                0.0        66.0             360.0   \n",
       "3             2583             2358.0       120.0             360.0   \n",
       "4             6000                0.0       141.0             360.0   \n",
       "\n",
       "   Credit_History Property_Area Loan_Status  \n",
       "0             1.0         Urban           Y  \n",
       "1             1.0         Rural           N  \n",
       "2             1.0         Urban           Y  \n",
       "3             1.0         Urban           Y  \n",
       "4             1.0         Urban           Y  "
      ]
     },
     "execution_count": 63,
     "metadata": {},
     "output_type": "execute_result"
    }
   ],
   "source": [
    "train = pd.read_csv('../input/analytics-vidhya-loan-prediction/train.csv')\n",
    "train.head(5)"
   ]
  },
  {
   "cell_type": "code",
   "execution_count": 64,
   "metadata": {
    "id": "RFijbx1bydq6",
    "outputId": "9dea56a1-5c67-42f0-ca8c-8501095cdbf4"
   },
   "outputs": [
    {
     "data": {
      "text/html": [
       "<div>\n",
       "<style scoped>\n",
       "    .dataframe tbody tr th:only-of-type {\n",
       "        vertical-align: middle;\n",
       "    }\n",
       "\n",
       "    .dataframe tbody tr th {\n",
       "        vertical-align: top;\n",
       "    }\n",
       "\n",
       "    .dataframe thead th {\n",
       "        text-align: right;\n",
       "    }\n",
       "</style>\n",
       "<table border=\"1\" class=\"dataframe\">\n",
       "  <thead>\n",
       "    <tr style=\"text-align: right;\">\n",
       "      <th></th>\n",
       "      <th>Loan_ID</th>\n",
       "      <th>Gender</th>\n",
       "      <th>Married</th>\n",
       "      <th>Dependents</th>\n",
       "      <th>Education</th>\n",
       "      <th>Self_Employed</th>\n",
       "      <th>ApplicantIncome</th>\n",
       "      <th>CoapplicantIncome</th>\n",
       "      <th>LoanAmount</th>\n",
       "      <th>Loan_Amount_Term</th>\n",
       "      <th>Credit_History</th>\n",
       "      <th>Property_Area</th>\n",
       "    </tr>\n",
       "  </thead>\n",
       "  <tbody>\n",
       "    <tr>\n",
       "      <th>0</th>\n",
       "      <td>LP001015</td>\n",
       "      <td>Male</td>\n",
       "      <td>Yes</td>\n",
       "      <td>0</td>\n",
       "      <td>Graduate</td>\n",
       "      <td>No</td>\n",
       "      <td>5720</td>\n",
       "      <td>0</td>\n",
       "      <td>110.0</td>\n",
       "      <td>360.0</td>\n",
       "      <td>1.0</td>\n",
       "      <td>Urban</td>\n",
       "    </tr>\n",
       "    <tr>\n",
       "      <th>1</th>\n",
       "      <td>LP001022</td>\n",
       "      <td>Male</td>\n",
       "      <td>Yes</td>\n",
       "      <td>1</td>\n",
       "      <td>Graduate</td>\n",
       "      <td>No</td>\n",
       "      <td>3076</td>\n",
       "      <td>1500</td>\n",
       "      <td>126.0</td>\n",
       "      <td>360.0</td>\n",
       "      <td>1.0</td>\n",
       "      <td>Urban</td>\n",
       "    </tr>\n",
       "    <tr>\n",
       "      <th>2</th>\n",
       "      <td>LP001031</td>\n",
       "      <td>Male</td>\n",
       "      <td>Yes</td>\n",
       "      <td>2</td>\n",
       "      <td>Graduate</td>\n",
       "      <td>No</td>\n",
       "      <td>5000</td>\n",
       "      <td>1800</td>\n",
       "      <td>208.0</td>\n",
       "      <td>360.0</td>\n",
       "      <td>1.0</td>\n",
       "      <td>Urban</td>\n",
       "    </tr>\n",
       "    <tr>\n",
       "      <th>3</th>\n",
       "      <td>LP001035</td>\n",
       "      <td>Male</td>\n",
       "      <td>Yes</td>\n",
       "      <td>2</td>\n",
       "      <td>Graduate</td>\n",
       "      <td>No</td>\n",
       "      <td>2340</td>\n",
       "      <td>2546</td>\n",
       "      <td>100.0</td>\n",
       "      <td>360.0</td>\n",
       "      <td>NaN</td>\n",
       "      <td>Urban</td>\n",
       "    </tr>\n",
       "    <tr>\n",
       "      <th>4</th>\n",
       "      <td>LP001051</td>\n",
       "      <td>Male</td>\n",
       "      <td>No</td>\n",
       "      <td>0</td>\n",
       "      <td>Not Graduate</td>\n",
       "      <td>No</td>\n",
       "      <td>3276</td>\n",
       "      <td>0</td>\n",
       "      <td>78.0</td>\n",
       "      <td>360.0</td>\n",
       "      <td>1.0</td>\n",
       "      <td>Urban</td>\n",
       "    </tr>\n",
       "  </tbody>\n",
       "</table>\n",
       "</div>"
      ],
      "text/plain": [
       "    Loan_ID Gender Married Dependents     Education Self_Employed  \\\n",
       "0  LP001015   Male     Yes          0      Graduate            No   \n",
       "1  LP001022   Male     Yes          1      Graduate            No   \n",
       "2  LP001031   Male     Yes          2      Graduate            No   \n",
       "3  LP001035   Male     Yes          2      Graduate            No   \n",
       "4  LP001051   Male      No          0  Not Graduate            No   \n",
       "\n",
       "   ApplicantIncome  CoapplicantIncome  LoanAmount  Loan_Amount_Term  \\\n",
       "0             5720                  0       110.0             360.0   \n",
       "1             3076               1500       126.0             360.0   \n",
       "2             5000               1800       208.0             360.0   \n",
       "3             2340               2546       100.0             360.0   \n",
       "4             3276                  0        78.0             360.0   \n",
       "\n",
       "   Credit_History Property_Area  \n",
       "0             1.0         Urban  \n",
       "1             1.0         Urban  \n",
       "2             1.0         Urban  \n",
       "3             NaN         Urban  \n",
       "4             1.0         Urban  "
      ]
     },
     "execution_count": 64,
     "metadata": {},
     "output_type": "execute_result"
    }
   ],
   "source": [
    "test = pd.read_csv('../input/analytics-vidhya-loan-prediction/test.csv')\n",
    "test.head(5)"
   ]
  },
  {
   "cell_type": "code",
   "execution_count": 65,
   "metadata": {
    "id": "ZPauNkFgydrI",
    "outputId": "e327463e-1228-4f69-dbbd-3c1c095eea34"
   },
   "outputs": [
    {
     "name": "stdout",
     "output_type": "stream",
     "text": [
      "(614, 13)\n"
     ]
    }
   ],
   "source": [
    "print(train.shape)"
   ]
  },
  {
   "cell_type": "code",
   "execution_count": 66,
   "metadata": {
    "id": "8iMMS4_SydrV",
    "outputId": "db5b2c3a-97e5-4e47-f139-a7997405289a"
   },
   "outputs": [
    {
     "name": "stdout",
     "output_type": "stream",
     "text": [
      "(367, 12)\n"
     ]
    }
   ],
   "source": [
    "print(test.shape)"
   ]
  },
  {
   "cell_type": "code",
   "execution_count": 67,
   "metadata": {
    "id": "sCZeOEGjydrh",
    "outputId": "a2d36ffa-58de-487d-d59f-c1b5e272ae5a"
   },
   "outputs": [
    {
     "name": "stdout",
     "output_type": "stream",
     "text": [
      "<class 'pandas.core.frame.DataFrame'>\n",
      "RangeIndex: 614 entries, 0 to 613\n",
      "Data columns (total 13 columns):\n",
      " #   Column             Non-Null Count  Dtype  \n",
      "---  ------             --------------  -----  \n",
      " 0   Loan_ID            614 non-null    object \n",
      " 1   Gender             601 non-null    object \n",
      " 2   Married            611 non-null    object \n",
      " 3   Dependents         599 non-null    object \n",
      " 4   Education          614 non-null    object \n",
      " 5   Self_Employed      582 non-null    object \n",
      " 6   ApplicantIncome    614 non-null    int64  \n",
      " 7   CoapplicantIncome  614 non-null    float64\n",
      " 8   LoanAmount         592 non-null    float64\n",
      " 9   Loan_Amount_Term   600 non-null    float64\n",
      " 10  Credit_History     564 non-null    float64\n",
      " 11  Property_Area      614 non-null    object \n",
      " 12  Loan_Status        614 non-null    object \n",
      "dtypes: float64(4), int64(1), object(8)\n",
      "memory usage: 62.5+ KB\n"
     ]
    }
   ],
   "source": [
    "train.info()"
   ]
  },
  {
   "cell_type": "markdown",
   "metadata": {},
   "source": [
    "### Missing value analysis"
   ]
  },
  {
   "cell_type": "code",
   "execution_count": 68,
   "metadata": {
    "id": "rx11gyYYydru",
    "outputId": "610766a6-85d0-4533-b5eb-7f26980ea3d4"
   },
   "outputs": [
    {
     "data": {
      "text/plain": [
       "Loan_ID               0\n",
       "Gender               13\n",
       "Married               3\n",
       "Dependents           15\n",
       "Education             0\n",
       "Self_Employed        32\n",
       "ApplicantIncome       0\n",
       "CoapplicantIncome     0\n",
       "LoanAmount           22\n",
       "Loan_Amount_Term     14\n",
       "Credit_History       50\n",
       "Property_Area         0\n",
       "Loan_Status           0\n",
       "dtype: int64"
      ]
     },
     "execution_count": 68,
     "metadata": {},
     "output_type": "execute_result"
    }
   ],
   "source": [
    "train.isnull().sum()"
   ]
  },
  {
   "cell_type": "code",
   "execution_count": 69,
   "metadata": {
    "id": "wNs0FzW2S3HC",
    "outputId": "d3383796-f5d2-4545-946f-269b8951452a"
   },
   "outputs": [
    {
     "data": {
      "text/plain": [
       "Loan_ID               0\n",
       "Gender               11\n",
       "Married               0\n",
       "Dependents           10\n",
       "Education             0\n",
       "Self_Employed        23\n",
       "ApplicantIncome       0\n",
       "CoapplicantIncome     0\n",
       "LoanAmount            5\n",
       "Loan_Amount_Term      6\n",
       "Credit_History       29\n",
       "Property_Area         0\n",
       "dtype: int64"
      ]
     },
     "execution_count": 69,
     "metadata": {},
     "output_type": "execute_result"
    }
   ],
   "source": [
    "test.isnull().sum()"
   ]
  },
  {
   "cell_type": "markdown",
   "metadata": {},
   "source": [
    "Studying the input variables"
   ]
  },
  {
   "cell_type": "code",
   "execution_count": 70,
   "metadata": {
    "id": "LWXM7gvzydr_",
    "outputId": "f325633d-1dcf-4f95-ffd3-1239c1880818"
   },
   "outputs": [
    {
     "data": {
      "text/plain": [
       "Male      286\n",
       "Female     70\n",
       "Name: Gender, dtype: int64"
      ]
     },
     "execution_count": 70,
     "metadata": {},
     "output_type": "execute_result"
    }
   ],
   "source": [
    "test['Gender'].value_counts()"
   ]
  },
  {
   "cell_type": "code",
   "execution_count": 71,
   "metadata": {
    "id": "qhs94DfMydsY",
    "outputId": "b95bb1a3-88e4-43e4-e260-3f61633d775f"
   },
   "outputs": [
    {
     "data": {
      "text/plain": [
       "120.0    20\n",
       "110.0    17\n",
       "100.0    15\n",
       "187.0    12\n",
       "160.0    12\n",
       "         ..\n",
       "570.0     1\n",
       "300.0     1\n",
       "376.0     1\n",
       "117.0     1\n",
       "311.0     1\n",
       "Name: LoanAmount, Length: 203, dtype: int64"
      ]
     },
     "execution_count": 71,
     "metadata": {},
     "output_type": "execute_result"
    }
   ],
   "source": [
    "train['LoanAmount'].value_counts()"
   ]
  },
  {
   "cell_type": "markdown",
   "metadata": {
    "id": "8ZPi1UBvXu_0"
   },
   "source": [
    "looks like, LoanAmount has outliers, we will standardize it later"
   ]
  },
  {
   "cell_type": "code",
   "execution_count": 72,
   "metadata": {
    "id": "RbWeRYQcydsl",
    "outputId": "4ff3c592-66f4-4d08-8998-97dc6f103937"
   },
   "outputs": [
    {
     "data": {
      "text/plain": [
       "0     200\n",
       "2      59\n",
       "1      58\n",
       "3+     40\n",
       "Name: Dependents, dtype: int64"
      ]
     },
     "execution_count": 72,
     "metadata": {},
     "output_type": "execute_result"
    }
   ],
   "source": [
    "test['Dependents'].value_counts()"
   ]
  },
  {
   "cell_type": "code",
   "execution_count": 73,
   "metadata": {
    "id": "oLactxi5Opf9",
    "outputId": "b6d7d472-589f-4a7a-d17f-652fec134031"
   },
   "outputs": [
    {
     "data": {
      "text/plain": [
       "1.0    279\n",
       "0.0     59\n",
       "Name: Credit_History, dtype: int64"
      ]
     },
     "execution_count": 73,
     "metadata": {},
     "output_type": "execute_result"
    }
   ],
   "source": [
    "test['Credit_History'].value_counts()"
   ]
  },
  {
   "cell_type": "code",
   "execution_count": 74,
   "metadata": {
    "id": "UlWn-VkHVhIx",
    "outputId": "92d2acd2-59ea-4dc0-87c5-8521ca30bb83"
   },
   "outputs": [
    {
     "data": {
      "text/plain": [
       "No     500\n",
       "Yes     82\n",
       "Name: Self_Employed, dtype: int64"
      ]
     },
     "execution_count": 74,
     "metadata": {},
     "output_type": "execute_result"
    }
   ],
   "source": [
    "train['Self_Employed'].value_counts()"
   ]
  },
  {
   "cell_type": "code",
   "execution_count": 75,
   "metadata": {},
   "outputs": [
    {
     "data": {
      "text/plain": [
       "360.0    512\n",
       "180.0     44\n",
       "480.0     15\n",
       "300.0     13\n",
       "84.0       4\n",
       "240.0      4\n",
       "120.0      3\n",
       "36.0       2\n",
       "60.0       2\n",
       "12.0       1\n",
       "Name: Loan_Amount_Term, dtype: int64"
      ]
     },
     "execution_count": 75,
     "metadata": {},
     "output_type": "execute_result"
    }
   ],
   "source": [
    "train['Loan_Amount_Term'].value_counts()"
   ]
  },
  {
   "cell_type": "markdown",
   "metadata": {
    "id": "sbx2BdPFXd8V"
   },
   "source": [
    "### IMPUTING FOR CATEGORICAL VARIABLES"
   ]
  },
  {
   "cell_type": "code",
   "execution_count": 76,
   "metadata": {
    "id": "HfSVh5H0Z1XO"
   },
   "outputs": [],
   "source": [
    "train['Gender'] = train['Gender'].fillna(train['Gender'].mode()[0]) #imputing missing values for gender\n",
    "test['Gender'] = test['Gender'].fillna(test['Gender'].mode()[0])"
   ]
  },
  {
   "cell_type": "code",
   "execution_count": 77,
   "metadata": {
    "id": "Wncsv5R3iM6r"
   },
   "outputs": [],
   "source": [
    "train['Married'] = train['Married'].fillna(train['Married'].mode()[0]) #imputing missing values for married\n",
    "test['Married'] = test['Married'].fillna(test['Married'].mode()[0]) "
   ]
  },
  {
   "cell_type": "code",
   "execution_count": 78,
   "metadata": {
    "id": "rtBujPipihxV"
   },
   "outputs": [],
   "source": [
    "train['Dependents'] = train['Dependents'].fillna(train['Dependents'].mode()[0]) #imputing missing values for Dependents\n",
    "test['Dependents'] = test['Dependents'].fillna(test['Dependents'].mode()[0]) "
   ]
  },
  {
   "cell_type": "code",
   "execution_count": 79,
   "metadata": {
    "id": "XB05zuApavct"
   },
   "outputs": [],
   "source": [
    "train['Self_Employed'].fillna('No',inplace=True)\n",
    "test['Self_Employed'].fillna('No',inplace=True)"
   ]
  },
  {
   "cell_type": "code",
   "execution_count": 80,
   "metadata": {
    "id": "3-ioWltvVumF"
   },
   "outputs": [],
   "source": [
    "train['Credit_History'] = train['Credit_History'].fillna(train['Credit_History'].mode()[0])\n",
    "test['Credit_History'] = test['Credit_History'].fillna(test['Credit_History'].mode()[0])"
   ]
  },
  {
   "cell_type": "markdown",
   "metadata": {
    "id": "n3KvXDJZYM1l"
   },
   "source": [
    "### IMPUTING FOR CONTINUOUS VARIABLE"
   ]
  },
  {
   "cell_type": "code",
   "execution_count": 81,
   "metadata": {},
   "outputs": [],
   "source": [
    "train['LoanAmount'] = train['LoanAmount'].fillna(train['LoanAmount'].median())\n",
    "test['LoanAmount'] = test['LoanAmount'].fillna(test['LoanAmount'].median())"
   ]
  },
  {
   "cell_type": "code",
   "execution_count": 82,
   "metadata": {},
   "outputs": [],
   "source": [
    "train['Loan_Amount_Term'] = train['Loan_Amount_Term'].fillna(train['Loan_Amount_Term'].median())\n",
    "test['Loan_Amount_Term'] = test['Loan_Amount_Term'].fillna(test['Loan_Amount_Term'].median())"
   ]
  },
  {
   "cell_type": "code",
   "execution_count": 83,
   "metadata": {
    "id": "c-O8ofmCVKfu",
    "outputId": "7c4a3bdb-0af4-4a57-8ba3-eb3d8910931a"
   },
   "outputs": [
    {
     "data": {
      "text/plain": [
       "Loan_ID              0\n",
       "Gender               0\n",
       "Married              0\n",
       "Dependents           0\n",
       "Education            0\n",
       "Self_Employed        0\n",
       "ApplicantIncome      0\n",
       "CoapplicantIncome    0\n",
       "LoanAmount           0\n",
       "Loan_Amount_Term     0\n",
       "Credit_History       0\n",
       "Property_Area        0\n",
       "Loan_Status          0\n",
       "dtype: int64"
      ]
     },
     "execution_count": 83,
     "metadata": {},
     "output_type": "execute_result"
    }
   ],
   "source": [
    "train.isnull().sum()"
   ]
  },
  {
   "cell_type": "code",
   "execution_count": 84,
   "metadata": {
    "id": "GYoQ-jvua7Yh",
    "outputId": "e16ebcff-26dc-4583-abf2-90d4f521dd97"
   },
   "outputs": [
    {
     "data": {
      "text/plain": [
       "Loan_ID              0\n",
       "Gender               0\n",
       "Married              0\n",
       "Dependents           0\n",
       "Education            0\n",
       "Self_Employed        0\n",
       "ApplicantIncome      0\n",
       "CoapplicantIncome    0\n",
       "LoanAmount           0\n",
       "Loan_Amount_Term     0\n",
       "Credit_History       0\n",
       "Property_Area        0\n",
       "dtype: int64"
      ]
     },
     "execution_count": 84,
     "metadata": {},
     "output_type": "execute_result"
    }
   ],
   "source": [
    "test.isnull().sum()"
   ]
  },
  {
   "cell_type": "code",
   "execution_count": 85,
   "metadata": {
    "id": "Ww93nB6KYKqS"
   },
   "outputs": [],
   "source": [
    "#Credit History \n",
    "train[\"Credit_History\"]=train[\"Credit_History\"].astype(\"object\")\n",
    "test[\"Credit_History\"]=test[\"Credit_History\"].astype(\"object\")"
   ]
  },
  {
   "cell_type": "code",
   "execution_count": 86,
   "metadata": {},
   "outputs": [],
   "source": [
    "train['Loan_Amount_Term']=train['Loan_Amount_Term'].astype(int)"
   ]
  },
  {
   "cell_type": "markdown",
   "metadata": {},
   "source": [
    "### chi-square analysis(to undersand the dependency between input categorical variables)"
   ]
  },
  {
   "cell_type": "code",
   "execution_count": 87,
   "metadata": {
    "id": "KTcRu9vde3uW"
   },
   "outputs": [],
   "source": [
    "df_chi=train.copy()"
   ]
  },
  {
   "cell_type": "code",
   "execution_count": 88,
   "metadata": {
    "id": "1uNQFQz3gbvd",
    "outputId": "fd312561-1094-4618-f85c-3cf623c2429f"
   },
   "outputs": [
    {
     "data": {
      "text/html": [
       "<div>\n",
       "<style scoped>\n",
       "    .dataframe tbody tr th:only-of-type {\n",
       "        vertical-align: middle;\n",
       "    }\n",
       "\n",
       "    .dataframe tbody tr th {\n",
       "        vertical-align: top;\n",
       "    }\n",
       "\n",
       "    .dataframe thead th {\n",
       "        text-align: right;\n",
       "    }\n",
       "</style>\n",
       "<table border=\"1\" class=\"dataframe\">\n",
       "  <thead>\n",
       "    <tr style=\"text-align: right;\">\n",
       "      <th></th>\n",
       "      <th>Loan_ID</th>\n",
       "      <th>Gender</th>\n",
       "      <th>Married</th>\n",
       "      <th>Dependents</th>\n",
       "      <th>Education</th>\n",
       "      <th>Self_Employed</th>\n",
       "      <th>ApplicantIncome</th>\n",
       "      <th>CoapplicantIncome</th>\n",
       "      <th>LoanAmount</th>\n",
       "      <th>Loan_Amount_Term</th>\n",
       "      <th>Credit_History</th>\n",
       "      <th>Property_Area</th>\n",
       "      <th>Loan_Status</th>\n",
       "    </tr>\n",
       "  </thead>\n",
       "  <tbody>\n",
       "    <tr>\n",
       "      <th>0</th>\n",
       "      <td>LP001002</td>\n",
       "      <td>Male</td>\n",
       "      <td>No</td>\n",
       "      <td>0</td>\n",
       "      <td>Graduate</td>\n",
       "      <td>No</td>\n",
       "      <td>5849</td>\n",
       "      <td>0.0</td>\n",
       "      <td>128.0</td>\n",
       "      <td>360</td>\n",
       "      <td>1</td>\n",
       "      <td>Urban</td>\n",
       "      <td>Y</td>\n",
       "    </tr>\n",
       "    <tr>\n",
       "      <th>1</th>\n",
       "      <td>LP001003</td>\n",
       "      <td>Male</td>\n",
       "      <td>Yes</td>\n",
       "      <td>1</td>\n",
       "      <td>Graduate</td>\n",
       "      <td>No</td>\n",
       "      <td>4583</td>\n",
       "      <td>1508.0</td>\n",
       "      <td>128.0</td>\n",
       "      <td>360</td>\n",
       "      <td>1</td>\n",
       "      <td>Rural</td>\n",
       "      <td>N</td>\n",
       "    </tr>\n",
       "    <tr>\n",
       "      <th>2</th>\n",
       "      <td>LP001005</td>\n",
       "      <td>Male</td>\n",
       "      <td>Yes</td>\n",
       "      <td>0</td>\n",
       "      <td>Graduate</td>\n",
       "      <td>Yes</td>\n",
       "      <td>3000</td>\n",
       "      <td>0.0</td>\n",
       "      <td>66.0</td>\n",
       "      <td>360</td>\n",
       "      <td>1</td>\n",
       "      <td>Urban</td>\n",
       "      <td>Y</td>\n",
       "    </tr>\n",
       "    <tr>\n",
       "      <th>3</th>\n",
       "      <td>LP001006</td>\n",
       "      <td>Male</td>\n",
       "      <td>Yes</td>\n",
       "      <td>0</td>\n",
       "      <td>Not Graduate</td>\n",
       "      <td>No</td>\n",
       "      <td>2583</td>\n",
       "      <td>2358.0</td>\n",
       "      <td>120.0</td>\n",
       "      <td>360</td>\n",
       "      <td>1</td>\n",
       "      <td>Urban</td>\n",
       "      <td>Y</td>\n",
       "    </tr>\n",
       "    <tr>\n",
       "      <th>4</th>\n",
       "      <td>LP001008</td>\n",
       "      <td>Male</td>\n",
       "      <td>No</td>\n",
       "      <td>0</td>\n",
       "      <td>Graduate</td>\n",
       "      <td>No</td>\n",
       "      <td>6000</td>\n",
       "      <td>0.0</td>\n",
       "      <td>141.0</td>\n",
       "      <td>360</td>\n",
       "      <td>1</td>\n",
       "      <td>Urban</td>\n",
       "      <td>Y</td>\n",
       "    </tr>\n",
       "  </tbody>\n",
       "</table>\n",
       "</div>"
      ],
      "text/plain": [
       "    Loan_ID Gender Married Dependents     Education Self_Employed  \\\n",
       "0  LP001002   Male      No          0      Graduate            No   \n",
       "1  LP001003   Male     Yes          1      Graduate            No   \n",
       "2  LP001005   Male     Yes          0      Graduate           Yes   \n",
       "3  LP001006   Male     Yes          0  Not Graduate            No   \n",
       "4  LP001008   Male      No          0      Graduate            No   \n",
       "\n",
       "   ApplicantIncome  CoapplicantIncome  LoanAmount  Loan_Amount_Term  \\\n",
       "0             5849                0.0       128.0               360   \n",
       "1             4583             1508.0       128.0               360   \n",
       "2             3000                0.0        66.0               360   \n",
       "3             2583             2358.0       120.0               360   \n",
       "4             6000                0.0       141.0               360   \n",
       "\n",
       "  Credit_History Property_Area Loan_Status  \n",
       "0              1         Urban           Y  \n",
       "1              1         Rural           N  \n",
       "2              1         Urban           Y  \n",
       "3              1         Urban           Y  \n",
       "4              1         Urban           Y  "
      ]
     },
     "execution_count": 88,
     "metadata": {},
     "output_type": "execute_result"
    }
   ],
   "source": [
    "df_chi.head()"
   ]
  },
  {
   "cell_type": "code",
   "execution_count": 89,
   "metadata": {
    "id": "Qb_yeaN1Z5iU"
   },
   "outputs": [],
   "source": [
    "#Assigning levels to the categories\n",
    "lis = []\n",
    "for i in range(0, df_chi.shape[1]):\n",
    "    if(df_chi.iloc[:,i].dtypes == 'object'):\n",
    "        df_chi.iloc[:,i] = pd.Categorical(df_chi.iloc[:,i])\n",
    "        df_chi.iloc[:,i] = df_chi.iloc[:,i].cat.codes \n",
    "        lis.append(df_chi.columns[i])"
   ]
  },
  {
   "cell_type": "code",
   "execution_count": 90,
   "metadata": {
    "id": "ExZRr0__X7rh"
   },
   "outputs": [],
   "source": [
    "cat_var=[\"Gender\",\"Married\",\"Dependents\",\"Education\",\"Self_Employed\",\"Credit_History\",\"Loan_Status\"] \n",
    "catdf=df_chi[cat_var]"
   ]
  },
  {
   "cell_type": "code",
   "execution_count": 91,
   "metadata": {
    "id": "-WAf7nFecJlH",
    "outputId": "c081b13e-0853-466d-c442-db5a148e788e"
   },
   "outputs": [
    {
     "name": "stdout",
     "output_type": "stream",
     "text": [
      "<class 'pandas.core.frame.DataFrame'>\n",
      "RangeIndex: 614 entries, 0 to 613\n",
      "Data columns (total 7 columns):\n",
      " #   Column          Non-Null Count  Dtype\n",
      "---  ------          --------------  -----\n",
      " 0   Gender          614 non-null    int8 \n",
      " 1   Married         614 non-null    int8 \n",
      " 2   Dependents      614 non-null    int8 \n",
      " 3   Education       614 non-null    int8 \n",
      " 4   Self_Employed   614 non-null    int8 \n",
      " 5   Credit_History  614 non-null    int8 \n",
      " 6   Loan_Status     614 non-null    int8 \n",
      "dtypes: int8(7)\n",
      "memory usage: 4.3 KB\n"
     ]
    }
   ],
   "source": [
    "catdf.info()"
   ]
  },
  {
   "cell_type": "code",
   "execution_count": 92,
   "metadata": {
    "id": "Wt8Ra67gXq4T",
    "outputId": "17005419-3c05-4293-b566-03e7cc6ee1ae"
   },
   "outputs": [
    {
     "name": "stdout",
     "output_type": "stream",
     "text": [
      "for 0\n",
      "Married           1.033668e-07\n",
      "Dependents        5.440191e-07\n",
      "Education         3.202845e-01\n",
      "Self_Employed     9.903387e-01\n",
      "Credit_History    9.310624e-01\n",
      "Loan_Status       8.031823e-01\n",
      "dtype: float64\n",
      "1.0336676344223253e-07\n",
      "5.440190932725145e-07\n",
      "for 1\n",
      "Dependents        3.535914e-22\n",
      "Education         7.874868e-01\n",
      "Self_Employed     9.175394e-01\n",
      "Credit_History    9.178124e-01\n",
      "Loan_Status       2.049573e-01\n",
      "dtype: float64\n",
      "3.5359141698071287e-22\n",
      "for 2\n",
      "Education         0.602805\n",
      "Self_Employed     0.159554\n",
      "Credit_History    0.955121\n",
      "Loan_Status       0.804772\n",
      "dtype: float64\n",
      "for 3\n",
      "Self_Employed     0.810728\n",
      "Credit_History    0.487127\n",
      "Loan_Status       0.234030\n",
      "dtype: float64\n",
      "for 4\n",
      "Credit_History    0.988330\n",
      "Loan_Status       0.959107\n",
      "dtype: float64\n",
      "for 5\n",
      "Loan_Status    6.878727e-14\n",
      "dtype: float64\n",
      "6.878726741563634e-14\n"
     ]
    }
   ],
   "source": [
    "from sklearn.feature_selection import chi2\n",
    "n= 7\n",
    "for i in range(0,6):\n",
    "    X=catdf.iloc[:,i+1:n]\n",
    "    y=catdf.iloc[:,i]\n",
    "    chi_scores = chi2(X,y)\n",
    "    p_values = pd.Series(chi_scores[1],index = X.columns)\n",
    "    print(\"for\",i)\n",
    "    print(p_values)\n",
    "    for j in range (0, len(p_values)):\n",
    "        if (p_values[j]<0.05):\n",
    "            print(p_values[j])"
   ]
  },
  {
   "cell_type": "markdown",
   "metadata": {},
   "source": [
    "will drop dependents and gender as they are highly correlated with 2 other variables"
   ]
  },
  {
   "cell_type": "code",
   "execution_count": 93,
   "metadata": {
    "id": "WU-8mEgqeR90"
   },
   "outputs": [],
   "source": [
    "#Loan ID is dropped because it is not required\n",
    "train=train.drop([\"Gender\"],axis=1)\n",
    "test=test.drop([\"Gender\"],axis=1)"
   ]
  },
  {
   "cell_type": "code",
   "execution_count": 94,
   "metadata": {
    "id": "n6xO2x-EUt_A"
   },
   "outputs": [],
   "source": [
    "#gender is correlated with married and dependent\n",
    "train=train.drop([\"Loan_ID\"],axis=1)\n",
    "test=test.drop([\"Loan_ID\"],axis=1)"
   ]
  },
  {
   "cell_type": "code",
   "execution_count": 95,
   "metadata": {
    "id": "7A5cDB1TeQYG"
   },
   "outputs": [],
   "source": [
    "train=train.drop([\"Dependents\"],axis=1)\n",
    "test=test.drop([\"Dependents\"],axis=1)"
   ]
  },
  {
   "cell_type": "code",
   "execution_count": 96,
   "metadata": {
    "id": "8xrgw3Z_hNk9",
    "outputId": "3cad12c2-704f-4e72-b6ec-85345ed773be"
   },
   "outputs": [
    {
     "name": "stdout",
     "output_type": "stream",
     "text": [
      "<class 'pandas.core.frame.DataFrame'>\n",
      "RangeIndex: 614 entries, 0 to 613\n",
      "Data columns (total 10 columns):\n",
      " #   Column             Non-Null Count  Dtype  \n",
      "---  ------             --------------  -----  \n",
      " 0   Married            614 non-null    object \n",
      " 1   Education          614 non-null    object \n",
      " 2   Self_Employed      614 non-null    object \n",
      " 3   ApplicantIncome    614 non-null    int64  \n",
      " 4   CoapplicantIncome  614 non-null    float64\n",
      " 5   LoanAmount         614 non-null    float64\n",
      " 6   Loan_Amount_Term   614 non-null    int64  \n",
      " 7   Credit_History     614 non-null    object \n",
      " 8   Property_Area      614 non-null    object \n",
      " 9   Loan_Status        614 non-null    object \n",
      "dtypes: float64(2), int64(2), object(6)\n",
      "memory usage: 48.1+ KB\n"
     ]
    }
   ],
   "source": [
    "train.info()"
   ]
  },
  {
   "cell_type": "markdown",
   "metadata": {},
   "source": [
    "### dummy variable for categorical variables"
   ]
  },
  {
   "cell_type": "code",
   "execution_count": 97,
   "metadata": {
    "id": "9JTwfXP0hJC4"
   },
   "outputs": [],
   "source": [
    "df_final= pd.get_dummies(train[[\"Married\",\"Education\",\"Self_Employed\",\"Credit_History\",\"Property_Area\"]], drop_first=True, dtype=bool)"
   ]
  },
  {
   "cell_type": "code",
   "execution_count": 98,
   "metadata": {
    "id": "jR7bu-aKlLtj",
    "outputId": "e3f26f0b-7595-4249-8ade-fac8d1c497fc"
   },
   "outputs": [
    {
     "name": "stdout",
     "output_type": "stream",
     "text": [
      "<class 'pandas.core.frame.DataFrame'>\n",
      "RangeIndex: 614 entries, 0 to 613\n",
      "Data columns (total 6 columns):\n",
      " #   Column                   Non-Null Count  Dtype\n",
      "---  ------                   --------------  -----\n",
      " 0   Married_Yes              614 non-null    bool \n",
      " 1   Education_Not Graduate   614 non-null    bool \n",
      " 2   Self_Employed_Yes        614 non-null    bool \n",
      " 3   Credit_History_1.0       614 non-null    bool \n",
      " 4   Property_Area_Semiurban  614 non-null    bool \n",
      " 5   Property_Area_Urban      614 non-null    bool \n",
      "dtypes: bool(6)\n",
      "memory usage: 3.7 KB\n"
     ]
    }
   ],
   "source": [
    "df_final.info()"
   ]
  },
  {
   "cell_type": "code",
   "execution_count": 99,
   "metadata": {
    "id": "c9M8IFMrk2aX"
   },
   "outputs": [],
   "source": [
    "train=train.drop([\"Married\",\"Education\",\"Self_Employed\",\"Credit_History\",\"Property_Area\"],axis=1)"
   ]
  },
  {
   "cell_type": "code",
   "execution_count": 100,
   "metadata": {
    "id": "7GvG0YaclQD7"
   },
   "outputs": [],
   "source": [
    "mergedDf = train.merge(df_final, left_index=True, right_index=True)"
   ]
  },
  {
   "cell_type": "code",
   "execution_count": 101,
   "metadata": {
    "id": "D77E6diYhWw3"
   },
   "outputs": [],
   "source": [
    "#Standardizing the numerical variables\n",
    "mergedDf[\"ApplicantIncome\"]= (mergedDf[\"ApplicantIncome\"] - mergedDf[\"ApplicantIncome\"].mean())/mergedDf[\"ApplicantIncome\"].std()\n",
    "mergedDf[\"CoapplicantIncome\"]= (mergedDf[\"CoapplicantIncome\"] - mergedDf[\"CoapplicantIncome\"].mean())/mergedDf[\"CoapplicantIncome\"].std()\n",
    "mergedDf[\"LoanAmount\"]= (mergedDf[\"LoanAmount\"] - mergedDf[\"LoanAmount\"].mean())/mergedDf[\"LoanAmount\"].std()\n",
    "mergedDf[\"Loan_Amount_Term\"]= (mergedDf[\"Loan_Amount_Term\"] - mergedDf[\"Loan_Amount_Term\"].mean())/mergedDf[\"Loan_Amount_Term\"].std()\n"
   ]
  },
  {
   "cell_type": "code",
   "execution_count": 102,
   "metadata": {
    "id": "6ap4Fq6jos5M"
   },
   "outputs": [],
   "source": [
    "lis = []\n",
    "for i in range(0, mergedDf.shape[1]):\n",
    "    if(mergedDf.iloc[:,i].dtypes == 'object'):\n",
    "        mergedDf.iloc[:,i] = pd.Categorical(mergedDf.iloc[:,i])\n",
    "        mergedDf.iloc[:,i] = mergedDf.iloc[:,i].cat.codes \n",
    "        lis.append(mergedDf.columns[i])"
   ]
  },
  {
   "cell_type": "code",
   "execution_count": 103,
   "metadata": {
    "id": "7w7tcvtyiqSj",
    "outputId": "8f286f1a-c45b-48a2-a77e-793f4b8965df"
   },
   "outputs": [
    {
     "data": {
      "text/html": [
       "<div>\n",
       "<style scoped>\n",
       "    .dataframe tbody tr th:only-of-type {\n",
       "        vertical-align: middle;\n",
       "    }\n",
       "\n",
       "    .dataframe tbody tr th {\n",
       "        vertical-align: top;\n",
       "    }\n",
       "\n",
       "    .dataframe thead th {\n",
       "        text-align: right;\n",
       "    }\n",
       "</style>\n",
       "<table border=\"1\" class=\"dataframe\">\n",
       "  <thead>\n",
       "    <tr style=\"text-align: right;\">\n",
       "      <th></th>\n",
       "      <th>ApplicantIncome</th>\n",
       "      <th>CoapplicantIncome</th>\n",
       "      <th>LoanAmount</th>\n",
       "      <th>Loan_Amount_Term</th>\n",
       "      <th>Loan_Status</th>\n",
       "      <th>Married_Yes</th>\n",
       "      <th>Education_Not Graduate</th>\n",
       "      <th>Self_Employed_Yes</th>\n",
       "      <th>Credit_History_1.0</th>\n",
       "      <th>Property_Area_Semiurban</th>\n",
       "      <th>Property_Area_Urban</th>\n",
       "    </tr>\n",
       "  </thead>\n",
       "  <tbody>\n",
       "    <tr>\n",
       "      <th>609</th>\n",
       "      <td>-0.409796</td>\n",
       "      <td>-0.554036</td>\n",
       "      <td>-0.888775</td>\n",
       "      <td>0.273009</td>\n",
       "      <td>1</td>\n",
       "      <td>False</td>\n",
       "      <td>False</td>\n",
       "      <td>False</td>\n",
       "      <td>True</td>\n",
       "      <td>False</td>\n",
       "      <td>False</td>\n",
       "    </tr>\n",
       "    <tr>\n",
       "      <th>610</th>\n",
       "      <td>-0.212383</td>\n",
       "      <td>-0.554036</td>\n",
       "      <td>-1.257353</td>\n",
       "      <td>-2.520780</td>\n",
       "      <td>1</td>\n",
       "      <td>True</td>\n",
       "      <td>False</td>\n",
       "      <td>False</td>\n",
       "      <td>True</td>\n",
       "      <td>False</td>\n",
       "      <td>False</td>\n",
       "    </tr>\n",
       "    <tr>\n",
       "      <th>611</th>\n",
       "      <td>0.436818</td>\n",
       "      <td>-0.472019</td>\n",
       "      <td>1.275129</td>\n",
       "      <td>0.273009</td>\n",
       "      <td>1</td>\n",
       "      <td>True</td>\n",
       "      <td>False</td>\n",
       "      <td>False</td>\n",
       "      <td>True</td>\n",
       "      <td>False</td>\n",
       "      <td>True</td>\n",
       "    </tr>\n",
       "    <tr>\n",
       "      <th>612</th>\n",
       "      <td>0.356773</td>\n",
       "      <td>-0.554036</td>\n",
       "      <td>0.490416</td>\n",
       "      <td>0.273009</td>\n",
       "      <td>1</td>\n",
       "      <td>True</td>\n",
       "      <td>False</td>\n",
       "      <td>False</td>\n",
       "      <td>True</td>\n",
       "      <td>False</td>\n",
       "      <td>True</td>\n",
       "    </tr>\n",
       "    <tr>\n",
       "      <th>613</th>\n",
       "      <td>-0.134302</td>\n",
       "      <td>-0.554036</td>\n",
       "      <td>-0.151621</td>\n",
       "      <td>0.273009</td>\n",
       "      <td>0</td>\n",
       "      <td>False</td>\n",
       "      <td>False</td>\n",
       "      <td>True</td>\n",
       "      <td>False</td>\n",
       "      <td>True</td>\n",
       "      <td>False</td>\n",
       "    </tr>\n",
       "  </tbody>\n",
       "</table>\n",
       "</div>"
      ],
      "text/plain": [
       "     ApplicantIncome  CoapplicantIncome  LoanAmount  Loan_Amount_Term  \\\n",
       "609        -0.409796          -0.554036   -0.888775          0.273009   \n",
       "610        -0.212383          -0.554036   -1.257353         -2.520780   \n",
       "611         0.436818          -0.472019    1.275129          0.273009   \n",
       "612         0.356773          -0.554036    0.490416          0.273009   \n",
       "613        -0.134302          -0.554036   -0.151621          0.273009   \n",
       "\n",
       "     Loan_Status  Married_Yes  Education_Not Graduate  Self_Employed_Yes  \\\n",
       "609            1        False                   False              False   \n",
       "610            1         True                   False              False   \n",
       "611            1         True                   False              False   \n",
       "612            1         True                   False              False   \n",
       "613            0        False                   False               True   \n",
       "\n",
       "     Credit_History_1.0  Property_Area_Semiurban  Property_Area_Urban  \n",
       "609                True                    False                False  \n",
       "610                True                    False                False  \n",
       "611                True                    False                 True  \n",
       "612                True                    False                 True  \n",
       "613               False                     True                False  "
      ]
     },
     "execution_count": 103,
     "metadata": {},
     "output_type": "execute_result"
    }
   ],
   "source": [
    "mergedDf.tail(5)"
   ]
  },
  {
   "cell_type": "code",
   "execution_count": 104,
   "metadata": {
    "id": "zDcUD5O5pPO9",
    "outputId": "92a3f844-280b-45bf-9ffd-c6849b383076"
   },
   "outputs": [
    {
     "name": "stdout",
     "output_type": "stream",
     "text": [
      "<class 'pandas.core.frame.DataFrame'>\n",
      "RangeIndex: 614 entries, 0 to 613\n",
      "Data columns (total 11 columns):\n",
      " #   Column                   Non-Null Count  Dtype  \n",
      "---  ------                   --------------  -----  \n",
      " 0   ApplicantIncome          614 non-null    float64\n",
      " 1   CoapplicantIncome        614 non-null    float64\n",
      " 2   LoanAmount               614 non-null    float64\n",
      " 3   Loan_Amount_Term         614 non-null    float64\n",
      " 4   Loan_Status              614 non-null    int8   \n",
      " 5   Married_Yes              614 non-null    bool   \n",
      " 6   Education_Not Graduate   614 non-null    bool   \n",
      " 7   Self_Employed_Yes        614 non-null    bool   \n",
      " 8   Credit_History_1.0       614 non-null    bool   \n",
      " 9   Property_Area_Semiurban  614 non-null    bool   \n",
      " 10  Property_Area_Urban      614 non-null    bool   \n",
      "dtypes: bool(6), float64(4), int8(1)\n",
      "memory usage: 23.5 KB\n"
     ]
    }
   ],
   "source": [
    "mergedDf.info()"
   ]
  },
  {
   "cell_type": "markdown",
   "metadata": {},
   "source": [
    "### Preparing target and feature variables"
   ]
  },
  {
   "cell_type": "code",
   "execution_count": 105,
   "metadata": {
    "id": "jNhn6Lv9iZ6m"
   },
   "outputs": [],
   "source": [
    "X=mergedDf.drop([\"Loan_Status\"],axis=1)\n",
    "Y=mergedDf[\"Loan_Status\"]\n",
    "Y=Y.astype(int)\n",
    "x=np.array(X)\n",
    "y=np.array(Y)"
   ]
  },
  {
   "cell_type": "code",
   "execution_count": 106,
   "metadata": {
    "id": "VZr6ZSVEjAi0"
   },
   "outputs": [],
   "source": [
    "from sklearn.model_selection import GridSearchCV, cross_val_score\n",
    "from sklearn.neighbors import KNeighborsClassifier\n",
    "from sklearn.metrics import confusion_matrix\n",
    "from sklearn.naive_bayes import GaussianNB\n",
    "from sklearn.tree import DecisionTreeClassifier"
   ]
  },
  {
   "cell_type": "markdown",
   "metadata": {},
   "source": [
    "## **Checking for the f1 scores for Naive Bayes**"
   ]
  },
  {
   "cell_type": "code",
   "execution_count": 107,
   "metadata": {
    "id": "Tml0x6Msjv6C",
    "outputId": "72ac767e-4435-4cd8-c7de-4c6a95b9bc47"
   },
   "outputs": [
    {
     "name": "stdout",
     "output_type": "stream",
     "text": [
      "Cross validation score: 87.23% (+/- 4.16%)\n"
     ]
    }
   ],
   "source": [
    "#Naive Bayes\n",
    "parameters = {'priors':[[0.01, 0.99],[0.1, 0.9], [0.2, 0.8], [0.25, 0.75], [0.3, 0.7],[0.35, 0.65], [0.4, 0.6],[0.45,0.55],[0.5,0.5],[0.55,0.45],[0.6,0.4]]}\n",
    "nb = GridSearchCV(GaussianNB(), parameters, scoring = 'f1', n_jobs=-1)\n",
    "nb.fit(x, y)\n",
    "scores = cross_val_score(nb, x, y, cv=5,scoring = 'f1')\n",
    "print(\"Cross validation score: {0:.2%} (+/- {1:.2%})\".format(np.mean(scores), np.std(scores)*2))"
   ]
  },
  {
   "cell_type": "markdown",
   "metadata": {},
   "source": [
    "## Checking for the f1 scores for Decision trees"
   ]
  },
  {
   "cell_type": "code",
   "execution_count": 108,
   "metadata": {},
   "outputs": [
    {
     "name": "stdout",
     "output_type": "stream",
     "text": [
      "DT Cross validation f1 score: 87.67% (+/- 3.22%)\n"
     ]
    }
   ],
   "source": [
    "from sklearn import tree\n",
    "from sklearn.pipeline import Pipeline\n",
    "decisiontree = tree.DecisionTreeClassifier()\n",
    "pipe = Pipeline(steps=[('decisiontree', decisiontree)])\n",
    "criterion = ['gini', 'entropy']\n",
    "max_depth = list(range(1,20))\n",
    "parameters = dict(decisiontree__criterion=criterion,decisiontree__max_depth=max_depth)\n",
    "dt = GridSearchCV(pipe, parameters,cv=5,scoring=\"f1\", n_jobs=-1)\n",
    "dt.fit(x,y)\n",
    "scores = cross_val_score(dt, x, y,scoring=\"f1\", cv=5)\n",
    "print(\"DT Cross validation f1 score: {0:.2%} (+/- {1:.2%})\".format(np.mean(scores), np.std(scores)*2))"
   ]
  },
  {
   "cell_type": "markdown",
   "metadata": {},
   "source": [
    "## Checking for the f1 scores for knn"
   ]
  },
  {
   "cell_type": "code",
   "execution_count": 109,
   "metadata": {},
   "outputs": [
    {
     "name": "stdout",
     "output_type": "stream",
     "text": [
      "KNN Cross validation f1 score: 84.98% (+/- 3.24%)\n"
     ]
    }
   ],
   "source": [
    "number_of_neighbors = range(1,20)\n",
    "params = {'n_neighbors':number_of_neighbors}\n",
    "knn = KNeighborsClassifier()\n",
    "knnmodel = GridSearchCV(knn, params, cv=5,scoring=\"f1\", n_jobs=-1)\n",
    "knnmodel.fit(x,y)\n",
    "scores = cross_val_score(knnmodel, x, y,scoring=\"f1\", cv=5)\n",
    "print(\"KNN Cross validation f1 score: {0:.2%} (+/- {1:.2%})\".format(np.mean(scores), np.std(scores)*2))"
   ]
  },
  {
   "cell_type": "markdown",
   "metadata": {},
   "source": [
    "### working on the test data"
   ]
  },
  {
   "cell_type": "code",
   "execution_count": 110,
   "metadata": {
    "id": "_kdGxG6vsQiy"
   },
   "outputs": [],
   "source": [
    "df_cat= pd.get_dummies(test[[\"Married\",\"Education\",\"Self_Employed\",\"Credit_History\",\"Property_Area\"]], drop_first=True, dtype=bool)"
   ]
  },
  {
   "cell_type": "code",
   "execution_count": 111,
   "metadata": {
    "id": "grMbV09_tbo7",
    "outputId": "7e03b62d-ec7c-4545-dbb7-c6b3ab455acc"
   },
   "outputs": [
    {
     "data": {
      "text/html": [
       "<div>\n",
       "<style scoped>\n",
       "    .dataframe tbody tr th:only-of-type {\n",
       "        vertical-align: middle;\n",
       "    }\n",
       "\n",
       "    .dataframe tbody tr th {\n",
       "        vertical-align: top;\n",
       "    }\n",
       "\n",
       "    .dataframe thead th {\n",
       "        text-align: right;\n",
       "    }\n",
       "</style>\n",
       "<table border=\"1\" class=\"dataframe\">\n",
       "  <thead>\n",
       "    <tr style=\"text-align: right;\">\n",
       "      <th></th>\n",
       "      <th>Married_Yes</th>\n",
       "      <th>Education_Not Graduate</th>\n",
       "      <th>Self_Employed_Yes</th>\n",
       "      <th>Credit_History_1.0</th>\n",
       "      <th>Property_Area_Semiurban</th>\n",
       "      <th>Property_Area_Urban</th>\n",
       "    </tr>\n",
       "  </thead>\n",
       "  <tbody>\n",
       "    <tr>\n",
       "      <th>0</th>\n",
       "      <td>True</td>\n",
       "      <td>False</td>\n",
       "      <td>False</td>\n",
       "      <td>True</td>\n",
       "      <td>False</td>\n",
       "      <td>True</td>\n",
       "    </tr>\n",
       "    <tr>\n",
       "      <th>1</th>\n",
       "      <td>True</td>\n",
       "      <td>False</td>\n",
       "      <td>False</td>\n",
       "      <td>True</td>\n",
       "      <td>False</td>\n",
       "      <td>True</td>\n",
       "    </tr>\n",
       "    <tr>\n",
       "      <th>2</th>\n",
       "      <td>True</td>\n",
       "      <td>False</td>\n",
       "      <td>False</td>\n",
       "      <td>True</td>\n",
       "      <td>False</td>\n",
       "      <td>True</td>\n",
       "    </tr>\n",
       "    <tr>\n",
       "      <th>3</th>\n",
       "      <td>True</td>\n",
       "      <td>False</td>\n",
       "      <td>False</td>\n",
       "      <td>True</td>\n",
       "      <td>False</td>\n",
       "      <td>True</td>\n",
       "    </tr>\n",
       "    <tr>\n",
       "      <th>4</th>\n",
       "      <td>False</td>\n",
       "      <td>True</td>\n",
       "      <td>False</td>\n",
       "      <td>True</td>\n",
       "      <td>False</td>\n",
       "      <td>True</td>\n",
       "    </tr>\n",
       "  </tbody>\n",
       "</table>\n",
       "</div>"
      ],
      "text/plain": [
       "   Married_Yes  Education_Not Graduate  Self_Employed_Yes  Credit_History_1.0  \\\n",
       "0         True                   False              False                True   \n",
       "1         True                   False              False                True   \n",
       "2         True                   False              False                True   \n",
       "3         True                   False              False                True   \n",
       "4        False                    True              False                True   \n",
       "\n",
       "   Property_Area_Semiurban  Property_Area_Urban  \n",
       "0                    False                 True  \n",
       "1                    False                 True  \n",
       "2                    False                 True  \n",
       "3                    False                 True  \n",
       "4                    False                 True  "
      ]
     },
     "execution_count": 111,
     "metadata": {},
     "output_type": "execute_result"
    }
   ],
   "source": [
    "df_cat.head()"
   ]
  },
  {
   "cell_type": "code",
   "execution_count": 112,
   "metadata": {
    "id": "I6b8lwfLtRUP"
   },
   "outputs": [],
   "source": [
    "test=test.drop([\"Married\",\"Education\",\"Self_Employed\",\"Credit_History\",\"Property_Area\"],axis=1)"
   ]
  },
  {
   "cell_type": "code",
   "execution_count": 113,
   "metadata": {
    "id": "i63M6JJRtp6P"
   },
   "outputs": [],
   "source": [
    "finaldDf = test.merge(df_cat, left_index=True, right_index=True)"
   ]
  },
  {
   "cell_type": "code",
   "execution_count": 114,
   "metadata": {
    "id": "41EOE81Ju4r7",
    "outputId": "68a650c8-29c3-4100-b173-1c11327b9dee"
   },
   "outputs": [
    {
     "name": "stdout",
     "output_type": "stream",
     "text": [
      "<class 'pandas.core.frame.DataFrame'>\n",
      "RangeIndex: 367 entries, 0 to 366\n",
      "Data columns (total 10 columns):\n",
      " #   Column                   Non-Null Count  Dtype  \n",
      "---  ------                   --------------  -----  \n",
      " 0   ApplicantIncome          367 non-null    int64  \n",
      " 1   CoapplicantIncome        367 non-null    int64  \n",
      " 2   LoanAmount               367 non-null    float64\n",
      " 3   Loan_Amount_Term         367 non-null    float64\n",
      " 4   Married_Yes              367 non-null    bool   \n",
      " 5   Education_Not Graduate   367 non-null    bool   \n",
      " 6   Self_Employed_Yes        367 non-null    bool   \n",
      " 7   Credit_History_1.0       367 non-null    bool   \n",
      " 8   Property_Area_Semiurban  367 non-null    bool   \n",
      " 9   Property_Area_Urban      367 non-null    bool   \n",
      "dtypes: bool(6), float64(2), int64(2)\n",
      "memory usage: 13.7 KB\n"
     ]
    }
   ],
   "source": [
    "finaldDf.info()"
   ]
  },
  {
   "cell_type": "code",
   "execution_count": 115,
   "metadata": {},
   "outputs": [],
   "source": [
    "finaldDf['Loan_Amount_Term']=finaldDf['Loan_Amount_Term'].astype(int)"
   ]
  },
  {
   "cell_type": "code",
   "execution_count": 116,
   "metadata": {
    "id": "L6SBYLD4kJ5v"
   },
   "outputs": [],
   "source": [
    "finaldDf[\"ApplicantIncome\"]= (finaldDf[\"ApplicantIncome\"] - finaldDf[\"ApplicantIncome\"].mean())/finaldDf[\"ApplicantIncome\"].std()\n",
    "finaldDf[\"CoapplicantIncome\"]= (finaldDf[\"CoapplicantIncome\"] - finaldDf[\"CoapplicantIncome\"].mean())/finaldDf[\"CoapplicantIncome\"].std()\n",
    "finaldDf[\"LoanAmount\"]= (finaldDf[\"LoanAmount\"] - finaldDf[\"LoanAmount\"].mean())/finaldDf[\"LoanAmount\"].std()\n",
    "finaldDf[\"Loan_Amount_Term\"]= (finaldDf[\"Loan_Amount_Term\"] - finaldDf[\"Loan_Amount_Term\"].mean())/finaldDf[\"Loan_Amount_Term\"].std()"
   ]
  },
  {
   "cell_type": "code",
   "execution_count": 117,
   "metadata": {
    "id": "1qXuOUoqkVGv",
    "outputId": "c41a9ec1-1319-4e34-bcec-9724b56052f4"
   },
   "outputs": [
    {
     "data": {
      "text/html": [
       "<div>\n",
       "<style scoped>\n",
       "    .dataframe tbody tr th:only-of-type {\n",
       "        vertical-align: middle;\n",
       "    }\n",
       "\n",
       "    .dataframe tbody tr th {\n",
       "        vertical-align: top;\n",
       "    }\n",
       "\n",
       "    .dataframe thead th {\n",
       "        text-align: right;\n",
       "    }\n",
       "</style>\n",
       "<table border=\"1\" class=\"dataframe\">\n",
       "  <thead>\n",
       "    <tr style=\"text-align: right;\">\n",
       "      <th></th>\n",
       "      <th>ApplicantIncome</th>\n",
       "      <th>CoapplicantIncome</th>\n",
       "      <th>LoanAmount</th>\n",
       "      <th>Loan_Amount_Term</th>\n",
       "      <th>Married_Yes</th>\n",
       "      <th>Education_Not Graduate</th>\n",
       "      <th>Self_Employed_Yes</th>\n",
       "      <th>Credit_History_1.0</th>\n",
       "      <th>Property_Area_Semiurban</th>\n",
       "      <th>Property_Area_Urban</th>\n",
       "    </tr>\n",
       "  </thead>\n",
       "  <tbody>\n",
       "    <tr>\n",
       "      <th>0</th>\n",
       "      <td>0.186206</td>\n",
       "      <td>-0.672417</td>\n",
       "      <td>-0.426198</td>\n",
       "      <td>0.265659</td>\n",
       "      <td>True</td>\n",
       "      <td>False</td>\n",
       "      <td>False</td>\n",
       "      <td>True</td>\n",
       "      <td>False</td>\n",
       "      <td>True</td>\n",
       "    </tr>\n",
       "    <tr>\n",
       "      <th>1</th>\n",
       "      <td>-0.352211</td>\n",
       "      <td>-0.029808</td>\n",
       "      <td>-0.163730</td>\n",
       "      <td>0.265659</td>\n",
       "      <td>True</td>\n",
       "      <td>False</td>\n",
       "      <td>False</td>\n",
       "      <td>True</td>\n",
       "      <td>False</td>\n",
       "      <td>True</td>\n",
       "    </tr>\n",
       "    <tr>\n",
       "      <th>2</th>\n",
       "      <td>0.039587</td>\n",
       "      <td>0.098714</td>\n",
       "      <td>1.181420</td>\n",
       "      <td>0.265659</td>\n",
       "      <td>True</td>\n",
       "      <td>False</td>\n",
       "      <td>False</td>\n",
       "      <td>True</td>\n",
       "      <td>False</td>\n",
       "      <td>True</td>\n",
       "    </tr>\n",
       "    <tr>\n",
       "      <th>3</th>\n",
       "      <td>-0.502089</td>\n",
       "      <td>0.418306</td>\n",
       "      <td>-0.590241</td>\n",
       "      <td>0.265659</td>\n",
       "      <td>True</td>\n",
       "      <td>False</td>\n",
       "      <td>False</td>\n",
       "      <td>True</td>\n",
       "      <td>False</td>\n",
       "      <td>True</td>\n",
       "    </tr>\n",
       "    <tr>\n",
       "      <th>4</th>\n",
       "      <td>-0.311484</td>\n",
       "      <td>-0.672417</td>\n",
       "      <td>-0.951135</td>\n",
       "      <td>0.265659</td>\n",
       "      <td>False</td>\n",
       "      <td>True</td>\n",
       "      <td>False</td>\n",
       "      <td>True</td>\n",
       "      <td>False</td>\n",
       "      <td>True</td>\n",
       "    </tr>\n",
       "  </tbody>\n",
       "</table>\n",
       "</div>"
      ],
      "text/plain": [
       "   ApplicantIncome  CoapplicantIncome  LoanAmount  Loan_Amount_Term  \\\n",
       "0         0.186206          -0.672417   -0.426198          0.265659   \n",
       "1        -0.352211          -0.029808   -0.163730          0.265659   \n",
       "2         0.039587           0.098714    1.181420          0.265659   \n",
       "3        -0.502089           0.418306   -0.590241          0.265659   \n",
       "4        -0.311484          -0.672417   -0.951135          0.265659   \n",
       "\n",
       "   Married_Yes  Education_Not Graduate  Self_Employed_Yes  Credit_History_1.0  \\\n",
       "0         True                   False              False                True   \n",
       "1         True                   False              False                True   \n",
       "2         True                   False              False                True   \n",
       "3         True                   False              False                True   \n",
       "4        False                    True              False                True   \n",
       "\n",
       "   Property_Area_Semiurban  Property_Area_Urban  \n",
       "0                    False                 True  \n",
       "1                    False                 True  \n",
       "2                    False                 True  \n",
       "3                    False                 True  \n",
       "4                    False                 True  "
      ]
     },
     "execution_count": 117,
     "metadata": {},
     "output_type": "execute_result"
    }
   ],
   "source": [
    "finaldDf.head()"
   ]
  },
  {
   "cell_type": "code",
   "execution_count": 118,
   "metadata": {
    "id": "kH-QvR3VlQ7V"
   },
   "outputs": [],
   "source": [
    "x=np.array(finaldDf)"
   ]
  },
  {
   "cell_type": "code",
   "execution_count": 119,
   "metadata": {
    "id": "cDvW1J1NlTaW",
    "outputId": "b9d44088-f6f3-4211-dfc9-792cc05e8faa"
   },
   "outputs": [],
   "source": [
    "#Prediction for ouput variable\n",
    "ypred=dt.predict(x)"
   ]
  },
  {
   "cell_type": "code",
   "execution_count": 120,
   "metadata": {
    "id": "0OM2eLo4mc5Y"
   },
   "outputs": [],
   "source": [
    "test=pd.read_csv(\"../input/analytics-vidhya-loan-prediction/test.csv\")\n",
    "test[\"Loan_Status\"]=ypred"
   ]
  },
  {
   "cell_type": "code",
   "execution_count": 121,
   "metadata": {
    "id": "iV5h_Sz2lW4I"
   },
   "outputs": [],
   "source": [
    "dict = {1: 'Y', 0: 'N'} "
   ]
  },
  {
   "cell_type": "code",
   "execution_count": 122,
   "metadata": {
    "id": "d2EkhrxIl4j6"
   },
   "outputs": [],
   "source": [
    "test['Loan_Status']= test['Loan_Status'].map(dict) "
   ]
  },
  {
   "cell_type": "code",
   "execution_count": 123,
   "metadata": {
    "id": "cTRIuydBmG5y",
    "outputId": "70f58959-58ae-4f62-fa2e-b35c3b49c616"
   },
   "outputs": [
    {
     "data": {
      "text/plain": [
       "Index(['Loan_ID', 'Gender', 'Married', 'Dependents', 'Education',\n",
       "       'Self_Employed', 'ApplicantIncome', 'CoapplicantIncome', 'LoanAmount',\n",
       "       'Loan_Amount_Term', 'Credit_History', 'Property_Area', 'Loan_Status'],\n",
       "      dtype='object')"
      ]
     },
     "execution_count": 123,
     "metadata": {},
     "output_type": "execute_result"
    }
   ],
   "source": [
    "test.columns"
   ]
  },
  {
   "cell_type": "code",
   "execution_count": 124,
   "metadata": {
    "id": "PxjUsI36midT"
   },
   "outputs": [],
   "source": [
    "test=test.drop(['Gender', 'Married', 'Dependents', 'Education',\n",
    "       'Self_Employed', 'ApplicantIncome', 'CoapplicantIncome', 'LoanAmount',\n",
    "       'Loan_Amount_Term', 'Credit_History', 'Property_Area'],axis=1)"
   ]
  },
  {
   "cell_type": "code",
   "execution_count": 125,
   "metadata": {
    "id": "k5xa1x-ammY3",
    "outputId": "e3c50dd1-159d-491b-e5ec-5bac5cff29d1"
   },
   "outputs": [
    {
     "data": {
      "text/html": [
       "<div>\n",
       "<style scoped>\n",
       "    .dataframe tbody tr th:only-of-type {\n",
       "        vertical-align: middle;\n",
       "    }\n",
       "\n",
       "    .dataframe tbody tr th {\n",
       "        vertical-align: top;\n",
       "    }\n",
       "\n",
       "    .dataframe thead th {\n",
       "        text-align: right;\n",
       "    }\n",
       "</style>\n",
       "<table border=\"1\" class=\"dataframe\">\n",
       "  <thead>\n",
       "    <tr style=\"text-align: right;\">\n",
       "      <th></th>\n",
       "      <th>Loan_ID</th>\n",
       "      <th>Loan_Status</th>\n",
       "    </tr>\n",
       "  </thead>\n",
       "  <tbody>\n",
       "    <tr>\n",
       "      <th>0</th>\n",
       "      <td>LP001015</td>\n",
       "      <td>Y</td>\n",
       "    </tr>\n",
       "    <tr>\n",
       "      <th>1</th>\n",
       "      <td>LP001022</td>\n",
       "      <td>Y</td>\n",
       "    </tr>\n",
       "    <tr>\n",
       "      <th>2</th>\n",
       "      <td>LP001031</td>\n",
       "      <td>Y</td>\n",
       "    </tr>\n",
       "    <tr>\n",
       "      <th>3</th>\n",
       "      <td>LP001035</td>\n",
       "      <td>Y</td>\n",
       "    </tr>\n",
       "    <tr>\n",
       "      <th>4</th>\n",
       "      <td>LP001051</td>\n",
       "      <td>Y</td>\n",
       "    </tr>\n",
       "  </tbody>\n",
       "</table>\n",
       "</div>"
      ],
      "text/plain": [
       "    Loan_ID Loan_Status\n",
       "0  LP001015           Y\n",
       "1  LP001022           Y\n",
       "2  LP001031           Y\n",
       "3  LP001035           Y\n",
       "4  LP001051           Y"
      ]
     },
     "execution_count": 125,
     "metadata": {},
     "output_type": "execute_result"
    }
   ],
   "source": [
    "test.head()"
   ]
  },
  {
   "cell_type": "code",
   "execution_count": 126,
   "metadata": {
    "id": "U6ZakwDPmoxt"
   },
   "outputs": [],
   "source": [
    "test.to_csv(\"submission.csv\")"
   ]
  },
  {
   "cell_type": "markdown",
   "metadata": {},
   "source": [
    "# So we get the best f1 score of approx 87.67% with DT!!!"
   ]
  },
  {
   "cell_type": "code",
   "execution_count": null,
   "metadata": {
    "id": "hKAHg3tMmw0D"
   },
   "outputs": [],
   "source": []
  },
  {
   "cell_type": "code",
   "execution_count": null,
   "metadata": {},
   "outputs": [],
   "source": []
  }
 ],
 "metadata": {
  "kernelspec": {
   "display_name": "Python 3",
   "language": "python",
   "name": "python3"
  },
  "language_info": {
   "codemirror_mode": {
    "name": "ipython",
    "version": 3
   },
   "file_extension": ".py",
   "mimetype": "text/x-python",
   "name": "python",
   "nbconvert_exporter": "python",
   "pygments_lexer": "ipython3",
   "version": "3.7.4"
  }
 },
 "nbformat": 4,
 "nbformat_minor": 4
}
